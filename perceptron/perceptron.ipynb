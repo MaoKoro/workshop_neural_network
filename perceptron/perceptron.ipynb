{
 "cells": [
  {
   "cell_type": "markdown",
   "metadata": {},
   "source": [
    "# Perceptron\n",
    "\n",
    "Le perceptron, la base d'un réseau de neurones.\n",
    "\n",
    "![Perceptron](assets/perceptron.png)"
   ]
  },
  {
   "cell_type": "markdown",
   "metadata": {},
   "source": [
    "### NumPy\n",
    "[NumPy](https://numpy.org/) est une bibliothèque pour langage de programmation Python, destinée à manipuler des matrices ou tableaux multidimensionnels ainsi que des fonctions mathématiques opérant sur ces tableaux."
   ]
  },
  {
   "cell_type": "code",
   "execution_count": 25,
   "metadata": {},
   "outputs": [],
   "source": [
    "import numpy as np"
   ]
  },
  {
   "cell_type": "markdown",
   "metadata": {},
   "source": [
    "### Notre classe\n",
    "\n",
    "La classe perceptron va permettre de manipuler le perceptron. Il a deux phases, la prédiction et l'entraînement.\n",
    "\n",
    "Dans la phase de prédiction du perceptron il y a la fonction d'activation qui va être une verification dans notre cas. Informez vous sur [la fonction heaviside](https://www.bibmath.net/dico/index.php?action=affiche&quoi=./h/heaviside.html)"
   ]
  },
  {
   "cell_type": "code",
   "execution_count": 26,
   "metadata": {},
   "outputs": [],
   "source": [
    "class Perceptron:\n",
    "    def __init__(self, input_size=2, learning_rate=0.01, epochs=100):\n",
    "        self.input_size = input_size\n",
    "        self.learning_rate = learning_rate\n",
    "        self.epochs = epochs\n",
    "        self.weights = np.random.rand(input_size + 1)\n",
    "\n",
    "    def predict(self, inputs):\n",
    "        summation = np.dot(inputs, self.weights[1:]) + self.weights[0]\n",
    "        return # Une verification s'impose\n",
    "\n",
    "    def train(self, training_inputs, labels):\n",
    "        for _ in range(self.epochs):\n",
    "            for inputs, label in zip(training_inputs, labels):\n",
    "                prediction = # fonction de prédiction\n",
    "                self.weights[1:] += self.learning_rate * (label - prediction) * inputs\n",
    "                self.weights[0] += self.learning_rate * (label - prediction)\n"
   ]
  },
  {
   "cell_type": "markdown",
   "metadata": {},
   "source": [
    "### Préparation des données d'entraiînement et du modèle perceptron\n",
    "\n",
    "Comme entrées nous avons des tuples de 1 et 0 qui représentent des inputs de OR Gate:\n",
    "\n",
    "![or_gate](assets/or_gate.png)\n",
    "\n",
    "Les `labels` sont les sorties que nous attendont pour chaque tuple d'input. Ils permettront de réajuster les poids lors de la phase d'entraînement."
   ]
  },
  {
   "cell_type": "code",
   "execution_count": 27,
   "metadata": {},
   "outputs": [],
   "source": [
    "training_inputs = np.array([[0, 0], [0, 1], [1, 0], [1, 1]])\n",
    "labels = np.array([]) # En suivant la truth table de l'image ci-dessus, comment remplir cette liste ?\n",
    "\n",
    "perceptron = # Initialisez votre perceptron\n",
    "perceptron.train(training_inputs, labels)"
   ]
  },
  {
   "cell_type": "markdown",
   "metadata": {},
   "source": [
    "### Testez !\n",
    "\n",
    "Si tout à bien été réalisé, votre perceptron devrait être en mesure de prédire les bons outputs pour un OR Gate.    \n",
    "Vous pouvez vous amuser à modifier l'input pour voir les difféerentes possibilités de sorties et vérifier que votre perceptron ne se trompe pas."
   ]
  },
  {
   "cell_type": "code",
   "execution_count": 28,
   "metadata": {},
   "outputs": [
    {
     "name": "stdout",
     "output_type": "stream",
     "text": [
      "Prédiction pour [1, 1]: 1\n"
     ]
    }
   ],
   "source": [
    "inputs = np.array([1, 0])\n",
    "print(\"Prédiction pour [1, 0]:\", perceptron.predict(inputs))"
   ]
  },
  {
   "cell_type": "markdown",
   "metadata": {},
   "source": [
    "### Aller plus loin...\n",
    "\n",
    "Vous pouvez modifier les `training_inputs` mais surtout `labels` en vous basant sur une autre truth table pour essayer d'entrainer votre perceptron à reproduire une AND Gate ou autre. Sinon passez au prochain exercise !"
   ]
  }
 ],
 "metadata": {
  "kernelspec": {
   "display_name": "workshop_ai",
   "language": "python",
   "name": "python3"
  },
  "language_info": {
   "codemirror_mode": {
    "name": "ipython",
    "version": 3
   },
   "file_extension": ".py",
   "mimetype": "text/x-python",
   "name": "python",
   "nbconvert_exporter": "python",
   "pygments_lexer": "ipython3",
   "version": "3.10.12"
  }
 },
 "nbformat": 4,
 "nbformat_minor": 2
}
