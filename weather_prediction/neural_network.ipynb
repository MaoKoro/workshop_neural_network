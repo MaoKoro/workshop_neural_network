{
 "cells": [
  {
   "cell_type": "markdown",
   "metadata": {},
   "source": [
    "# Weather prediction from scratch\n",
    "\n",
    "Je vous conseille de jeter un coup d'oeil à `neural_network_utils.ipynb` avant de commencer cet exercise"
   ]
  },
  {
   "cell_type": "code",
   "execution_count": null,
   "metadata": {},
   "outputs": [],
   "source": [
    "import numpy as np\n",
    "import pandas as pd\n",
    "from sklearn.preprocessing import StandardScaler"
   ]
  },
  {
   "cell_type": "markdown",
   "metadata": {},
   "source": [
    "### Hyperparamètres"
   ]
  },
  {
   "cell_type": "code",
   "execution_count": null,
   "metadata": {},
   "outputs": [],
   "source": [
    "# Notre algoritme se base sur la température maximale, minimale et les précipitations\n",
    "PREDICTORS = [\"\", \"\", \"\"] # Les valeurs sur lesquelles nous allons nous baser\n",
    "TARGET = \"\" # La valeur à prédire\n",
    "\n",
    "# Il nous faut un learning_rate de 1e-5, 10 epochs et un batch_size de 8\n",
    "learning_rate =\n",
    "epochs =\n",
    "batch_size ="
   ]
  },
  {
   "cell_type": "markdown",
   "metadata": {},
   "source": [
    "## Préparer les données"
   ]
  },
  {
   "cell_type": "code",
   "execution_count": null,
   "metadata": {},
   "outputs": [],
   "source": [
    "data = # Lire le csv ?\n",
    "data = data.ffill()\n",
    "\n",
    "scaler = StandardScaler()\n",
    "data[PREDICTORS] = scaler.fit_transform(data[PREDICTORS])\n",
    "\n",
    "split_data = np.split(data, [int(.7 * len(data)), int(.85 * len(data))])\n",
    "(train_x, train_y), (valid_x, valid_y), (test_x, test_y) = [[d[PREDICTORS].to_numpy(), d[[TARGET]].to_numpy()] for d in split_data]\n"
   ]
  },
  {
   "cell_type": "markdown",
   "metadata": {},
   "source": [
    "## Fonctions de manipulation de layers"
   ]
  },
  {
   "cell_type": "code",
   "execution_count": null,
   "metadata": {},
   "outputs": [],
   "source": [
    "def init_layers(inputs):\n",
    "    layers = []\n",
    "    for i in range(1, len(inputs)):\n",
    "        layers.append([\n",
    "            np.random.rand(inputs[i-1], inputs[i]) / 5 - .1,\n",
    "            np.ones((1, inputs[i]))\n",
    "        ])\n",
    "    return layers\n",
    "\n",
    "# Créer un tableau qui respecte ce schéma: [a, b, c, d]\n",
    "# a est le nombre d'inputs à prendre en compte (prédictors ?)\n",
    "# b est le nombre d'entités pour la première couche\n",
    "# c est le nombre d'entités pour la deuxième couche\n",
    "# d est le nombre d'outputs à prédire (target ?)\n",
    "# Notre première couche et la seconde vont avoir 10 entités chacune\n",
    "layer_conf ="
   ]
  },
  {
   "cell_type": "code",
   "execution_count": null,
   "metadata": {},
   "outputs": [],
   "source": [
    "def forward(batch, layers):\n",
    "    hiddens = [batch.copy()]\n",
    "    for i in range(len(layers)):\n",
    "        batch = np.matmul(batch, layers[i][0]) + layers[i][1]\n",
    "        if i < len(layers) - 1:\n",
    "            batch = np.maximum(batch, 0)\n",
    "        hiddens.append(batch.copy())\n",
    "    return batch, hiddens"
   ]
  },
  {
   "cell_type": "code",
   "execution_count": null,
   "metadata": {},
   "outputs": [],
   "source": [
    "def mse(actual, predicted):\n",
    "    return # La formule du MSE\n",
    "\n",
    "def mse_grad(actual, predicted):\n",
    "    return # La formule du gradient du MSE"
   ]
  },
  {
   "cell_type": "code",
   "execution_count": null,
   "metadata": {},
   "outputs": [],
   "source": [
    "def backward(layers, hidden, grad, learning_rate):\n",
    "    for i in range(len(layers)-1, -1, -1):\n",
    "        if i != len(layers) - 1:\n",
    "            grad = np.multiply(grad, np.heaviside(hidden[i+1], 0))\n",
    "\n",
    "        w_grad = hidden[i].T @ grad\n",
    "        b_grad = np.mean(grad, axis=0)\n",
    "        layers[i][0] -= w_grad * learning_rate\n",
    "        layers[i][1] -= b_grad * learning_rate\n",
    "\n",
    "        grad = grad @ layers[i][0].T\n",
    "    return layers"
   ]
  },
  {
   "cell_type": "markdown",
   "metadata": {},
   "source": [
    "## Boucle d'entraînement"
   ]
  },
  {
   "cell_type": "code",
   "execution_count": null,
   "metadata": {},
   "outputs": [],
   "source": [
    "layers = # Initialiser les layers\n",
    "\n",
    "for epoch in range(epochs):\n",
    "    epoch_loss = 0\n",
    "\n",
    "    for i in range(0, train_x.shape[0], batch_size):\n",
    "        x_batch = train_x[i:(i+batch_size)]\n",
    "        y_batch = train_y[i:(i+batch_size)]\n",
    "\n",
    "        pred, hidden = forward(x_batch, layers)\n",
    "\n",
    "        loss = # Calculer la loss grace à la fonction mse_grad de y_batch et pred\n",
    "        epoch_loss += np.mean(loss ** 2)\n",
    "\n",
    "        layers = backward(layers, hidden, loss, learning_rate)\n",
    "\n",
    "    valid_preds, _ = forward(valid_x, layers)\n",
    "    print(f\"Epoch {epoch} Train MSE: {epoch_loss / (train_x.shape[0] / batch_size)} Valid MSE: {np.mean(mse(valid_preds, valid_y))}\")\n"
   ]
  }
 ],
 "metadata": {
  "kernelspec": {
   "display_name": "work_ai",
   "language": "python",
   "name": "python3"
  },
  "language_info": {
   "codemirror_mode": {
    "name": "ipython",
    "version": 3
   },
   "file_extension": ".py",
   "mimetype": "text/x-python",
   "name": "python",
   "nbconvert_exporter": "python",
   "pygments_lexer": "ipython3",
   "version": "3.10.12"
  }
 },
 "nbformat": 4,
 "nbformat_minor": 2
}
